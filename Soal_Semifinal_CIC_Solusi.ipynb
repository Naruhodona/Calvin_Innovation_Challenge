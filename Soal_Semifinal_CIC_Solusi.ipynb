{
 "cells": [
  {
   "attachments": {},
   "cell_type": "markdown",
   "metadata": {
    "datalore": {
     "hide_input_from_viewers": true,
     "hide_output_from_viewers": true,
     "node_id": "gaWgcvkxWLSsGHdwB9jVzX",
     "type": "MD"
    }
   },
   "source": [
    "# 1. Import Libraries yang dibutuhkan (0 Poin)"
   ]
  },
  {
   "cell_type": "code",
   "execution_count": 4,
   "metadata": {
    "datalore": {
     "hide_input_from_viewers": false,
     "hide_output_from_viewers": false,
     "node_id": "MyYVXIXW6v90IdvxVYxFSl",
     "report_properties": {
      "rowId": "cZXtFqbVObkilDbzRE2JKJ"
     },
     "type": "CODE"
    }
   },
   "outputs": [],
   "source": [
    "# Terdapat total 3 import yang anda butuhkan\n"
   ]
  },
  {
   "cell_type": "markdown",
   "metadata": {},
   "source": [
    "# 2. Seaborn Setup (0 Poin)"
   ]
  },
  {
   "cell_type": "code",
   "execution_count": 5,
   "metadata": {
    "datalore": {
     "hide_input_from_viewers": true,
     "hide_output_from_viewers": true,
     "node_id": "BYvTVnWX6WJqHdu6BJ5TRt",
     "type": "CODE"
    }
   },
   "outputs": [],
   "source": [
    "# Setup seaborn sedemikian rupa sehingga panjang grafik adalah 20 dan lebar grafik adalah 7\n"
   ]
  },
  {
   "attachments": {},
   "cell_type": "markdown",
   "metadata": {
    "datalore": {
     "hide_input_from_viewers": true,
     "hide_output_from_viewers": true,
     "node_id": "dWqL7g2tfpNlcAFeKh6CHp",
     "type": "MD"
    }
   },
   "source": [
    "# 3. Mengambil Dataset Dari URL dan Menyimpan Kedalam Pandas Dataframe (1 Poin)"
   ]
  },
  {
   "cell_type": "code",
   "execution_count": null,
   "metadata": {
    "datalore": {
     "hide_input_from_viewers": false,
     "hide_output_from_viewers": false,
     "node_id": "jD0xrP8q7D2iNY2iJBAz5q",
     "report_properties": {
      "rowId": "BuOmaJUIoIBycf48kZClq7"
     },
     "type": "CODE"
    }
   },
   "outputs": [],
   "source": [
    "# Baca dataframe dari URL ini dan simpan kedalam variabel wine_df\n",
    "wine_data_url = \"https://raw.githubusercontent.com/Naruhodona/Calvin_Innovation_Challenge/main/datasets/winemag-data-130k-v2.csv\"\n",
    "# Lengkapilan kode dibawah ini\n",
    "wine_df = pd.read_csv(,index_col=[0])\n",
    "# Tampilan Dataframe\n"
   ]
  },
  {
   "cell_type": "markdown",
   "metadata": {},
   "source": [
    "# Penjelasan Dataset (jangan mengubah bagian ini)"
   ]
  },
  {
   "attachments": {},
   "cell_type": "markdown",
   "metadata": {
    "datalore": {
     "hide_input_from_viewers": true,
     "hide_output_from_viewers": true,
     "node_id": "HQbsoNMSgBLjikal51y57F",
     "type": "MD"
    }
   },
   "source": [
    "<p>Penjelasan dataset dapat anda lihat dari tautan berikut <a href=\"https://www.kaggle.com/datasets/zynicide/wine-reviews/data\">Wine Review</a></p>\n",
    "<table>\n",
    "    <tr>\n",
    "        <th>Nama Kolom</th>\n",
    "        <th>Deskripsi</th>\n",
    "    </tr>\n",
    "    <tr>\n",
    "        <td>country</td>\n",
    "        <td>Negara asal anggur tersebut</td>\n",
    "    </tr>\n",
    "    <tr>\n",
    "        <td>description</td>\n",
    "        <td>Deskripsi anggur</td>\n",
    "    </tr>\n",
    "    <tr>\n",
    "        <td>designation</td>\n",
    "        <td>Kebun anggur di dalam kilang anggur tempat buah anggur yang membuat anggur itu berasal</td>\n",
    "    </tr>\n",
    "    <tr>\n",
    "        <td>points</td>\n",
    "        <td>Jumlah poin WineEnthusiast yang menilai anggur pada skala 1-100 (meskipun mereka mengatakan bahwa mereka hanya memposting ulasan untuk anggur yang skornya &gt;=80)</td>\n",
    "    </tr>\n",
    "    <tr>\n",
    "        <td>price</td>\n",
    "        <td>Biaya untuk sebotol anggur</td>\n",
    "    </tr>\n",
    "    <tr>\n",
    "        <td>province</td>\n",
    "        <td>Provinsi atau negara bagian asal anggur tersebut</td>\n",
    "    </tr>\n",
    "    <tr>\n",
    "        <td>region_1</td>\n",
    "        <td>Area penanaman anggur di suatu provinsi atau negara bagian (yaitu Napa)</td>\n",
    "    </tr>\n",
    "    <tr>\n",
    "        <td>region_2</td>\n",
    "        <td>Terkadang ada wilayah yang lebih spesifik yang ditentukan dalam area penanaman anggur (yaitu Rutherford di dalam Lembah Napa), namun nilai ini terkadang kosong</td>\n",
    "    </tr>\n",
    "    <tr>\n",
    "        <td>taster_name</td>\n",
    "        <td>Nama pemberi ulasan</td>\n",
    "    </tr>\n",
    "    <tr>\n",
    "        <td>taster_twitter_handle</td>\n",
    "        <td>Penilai anggur tersebut jika mereka memiliki akun Twitter</td>\n",
    "    </tr>\n",
    "    <tr>\n",
    "        <td>title</td>\n",
    "        <td>Judul ulasan wine, yang sering kali berisi vintage jika Anda tertarik untuk mengekstrak fitur tersebut</td>\n",
    "    </tr>\n",
    "    <tr>\n",
    "        <td>variety</td>\n",
    "        <td>Jenis buah anggur yang digunakan untuk membuat anggur (yaitu Pinot Noir)</td>\n",
    "    </tr>\n",
    "    <tr>\n",
    "        <td>winery</td>\n",
    "        <td>Pabrik anggur yang membuat anggur</td>\n",
    "    </tr>\n",
    "</table>"
   ]
  },
  {
   "attachments": {},
   "cell_type": "markdown",
   "metadata": {
    "datalore": {
     "hide_input_from_viewers": true,
     "hide_output_from_viewers": true,
     "node_id": "dwMruF1OOt9gdDNTJI3b2Q",
     "type": "MD"
    }
   },
   "source": [
    "# 4. Pembersihan Data (25 Poin)"
   ]
  },
  {
   "cell_type": "markdown",
   "metadata": {},
   "source": [
    "## 4.1 Tampilkan Nama - Nama Kolom Dataframe (5 Poin)"
   ]
  },
  {
   "cell_type": "code",
   "execution_count": null,
   "metadata": {
    "datalore": {
     "hide_input_from_viewers": false,
     "hide_output_from_viewers": false,
     "node_id": "066ZPWjqOjh2Ji7vlcmKY3",
     "report_properties": {
      "rowId": "JfASSsxAf2zWpcXlJqp5NL"
     },
     "type": "CODE"
    }
   },
   "outputs": [],
   "source": [
    "# Simpan nama-nama kolom dataframe ke dalam variabel wine_df_columns\n",
    "wine_df_columns =\n",
    "\n",
    "# Tampilkan"
   ]
  },
  {
   "cell_type": "markdown",
   "metadata": {},
   "source": [
    "## 4.2 Tampilkan Shape Dari Dataframe (5 Poin)"
   ]
  },
  {
   "cell_type": "code",
   "execution_count": null,
   "metadata": {
    "datalore": {
     "hide_input_from_viewers": true,
     "hide_output_from_viewers": true,
     "node_id": "fItVUH7sWNE8Kruhk3fVLq",
     "type": "CODE"
    }
   },
   "outputs": [],
   "source": [
    "# Simpan shape dari dataframe ke dalam variabel row,col\n",
    "row,col = \n",
    "\n",
    "# Tampilkan berdasarkan print statement dibawah ini (lengkapi)\n",
    "print(\"Dataset ini memiliki {} baris dan {} kolom\")"
   ]
  },
  {
   "cell_type": "markdown",
   "metadata": {},
   "source": [
    "## 4.3 Tampilkan Datatypes Dari Dataframe (5 Poin)"
   ]
  },
  {
   "cell_type": "code",
   "execution_count": null,
   "metadata": {
    "datalore": {
     "hide_input_from_viewers": true,
     "hide_output_from_viewers": true,
     "node_id": "GG7HZF5Tq0sSbWPPl6E9XU",
     "type": "CODE"
    }
   },
   "outputs": [],
   "source": [
    "# Simpan datatypes dari dataframe wine_df ke dalam variabel wine_df_datatypes\n",
    "wine_df_datatypes = \n",
    "# Tampilkan"
   ]
  },
  {
   "cell_type": "markdown",
   "metadata": {},
   "source": [
    "## 4.4 Tampilkan Kolom-Kolom yang Memiliki Nilai Null Dari Dataframe (5 Poin)"
   ]
  },
  {
   "cell_type": "code",
   "execution_count": null,
   "metadata": {
    "datalore": {
     "hide_input_from_viewers": true,
     "hide_output_from_viewers": true,
     "node_id": "0mQtRqHkfbeBZypqnPn2vc",
     "type": "CODE"
    }
   },
   "outputs": [],
   "source": [
    "# Simpan kolom-kolom wine_df yang memiliki nilai null\n",
    "columns_with_null_values = \n",
    "\n",
    "# Tampilkan"
   ]
  },
  {
   "cell_type": "markdown",
   "metadata": {},
   "source": [
    "## 4.5 Drop Row-Row yang memiliki nilai Null pada Kolom Price (5 Poin)"
   ]
  },
  {
   "cell_type": "code",
   "execution_count": null,
   "metadata": {
    "datalore": {
     "hide_input_from_viewers": true,
     "hide_output_from_viewers": true,
     "node_id": "kg88rB3yX121jkZlk2nqCK",
     "type": "CODE"
    }
   },
   "outputs": [],
   "source": [
    "# Carilah jumlah rows yang memiliki nilai null pada wine_df dan simpan ke dalam variabel num_of_empty_datas\n",
    "num_of_empty_datas = \n",
    "\n",
    "# Lengkapilan print statement dibawah ini\n",
    "print(\"Dateset memiliki {} baris yang kosong\")\n",
    "\n",
    "# Drop Row yang memiliki nilai null pada kolom price\n",
    "\n",
    "# Tampilkan shape dataframe setelah null rows pada kolom price di drop"
   ]
  },
  {
   "cell_type": "markdown",
   "metadata": {},
   "source": [
    "# 5. Filter Data (5 Poin)"
   ]
  },
  {
   "cell_type": "markdown",
   "metadata": {},
   "source": [
    "## 5.1 Tampilkan Top 3 Negara Yang Memiliki Kontribusi Terbesar Dari Kolom `country` (5 Poin)"
   ]
  },
  {
   "cell_type": "code",
   "execution_count": null,
   "metadata": {
    "datalore": {
     "hide_input_from_viewers": true,
     "hide_output_from_viewers": true,
     "node_id": "fgoO7lDtt7G0djIoSpHVsV",
     "type": "CODE"
    }
   },
   "outputs": [],
   "source": [
    "# Buatlah kode untuk menampilkan top 3 negara yang memiliki kontribusi terbesar dari kolom country dan simpan dalam variabel country_contributions\n",
    "country_contributions = \n",
    "\n",
    "# Tampilkan"
   ]
  },
  {
   "attachments": {},
   "cell_type": "markdown",
   "metadata": {
    "datalore": {
     "hide_input_from_viewers": true,
     "hide_output_from_viewers": true,
     "node_id": "2gEwZi6gLAN3JwozUaAsP5",
     "type": "MD"
    }
   },
   "source": [
    "# 6. Visualisasi Data (20 Poin)"
   ]
  },
  {
   "cell_type": "markdown",
   "metadata": {},
   "source": [
    "## 6.1 Visualisasikan data dengan boxplot untuk kolom `points` dari 3 negara kontribusi terbanyak (5 Poin)"
   ]
  },
  {
   "cell_type": "code",
   "execution_count": null,
   "metadata": {
    "datalore": {
     "hide_input_from_viewers": true,
     "hide_output_from_viewers": true,
     "node_id": "z6fM3BkgKcMxUoVUIIHf3t",
     "type": "CODE"
    }
   },
   "outputs": [],
   "source": [
    "# Isilah bagian kosong dari variabel country colors ini dengan top 3 negara yang memiliki top 3 contributions\n",
    "country_colors = {\n",
    "    \"\": 'plum',\n",
    "    \"\": 'orange',\n",
    "    \"\": 'g',\n",
    "}\n",
    "\n",
    "# Lengkapilah function dibawah ini (jangan ubah nama function dan parameter!)\n",
    "def plot_country_vs_points_boxplot(df: pd.DataFrame, country_name: str):\n",
    "    # buatlah boxplot (lengkapilah kode dibawah ini)\n",
    "    sns.boxplot(x=, y=, data=, palette=country_colors)\n",
    "    # Tampilkan judul grafik (lengkapilah kode dibawah ini)\n",
    "    plt.title('Distribusi Poin Anggur berdasarkan Negara {}')\n",
    "    # Tampilkan grafik\n",
    "\n",
    "# Buatlah 3 variabel, satu variabel untuk masing-masing negara dari 3 negara yang memiliki top 3 contributions (buat variabel dengan format <nama-negara>_df: contoh germany_df, swiss_df)\n",
    "# variabel negara tertinggi rank 1\n",
    "\n",
    "# variabel negara tertinggi rank 2\n",
    "\n",
    "# variabel negara tertinggi rank 3\n",
    "\n",
    "\n",
    "# Panggil function diatas masing-masing 1 kali untuk setiap negara\n",
    "# panggil fungsi negara tertinggi rank 1\n",
    "plot_country_vs_points_boxplot()\n",
    "# panggil fungsi negara tertinggi rank 2\n",
    "plot_country_vs_points_boxplot()\n",
    "# panggil fungsi negara tertinggi rank 3\n",
    "plot_country_vs_points_boxplot()"
   ]
  },
  {
   "cell_type": "markdown",
   "metadata": {},
   "source": [
    "## 6.2 Visualisasikan data dengan boxplot untuk kolom `price` dari 3 negara kontribusi terbanyak (5 Poin)"
   ]
  },
  {
   "cell_type": "code",
   "execution_count": null,
   "metadata": {
    "datalore": {
     "hide_input_from_viewers": true,
     "hide_output_from_viewers": true,
     "node_id": "9VgXfnC6FnipxEMU7wvrBE",
     "type": "CODE"
    }
   },
   "outputs": [],
   "source": [
    "# Lengkapilah function dibawah ini (jangan ubah nama function dan parameter!)\n",
    "def plot_country_vs_price_boxplot(df: pd.DataFrame, country_name: str):\n",
    "    # buatlah boxplot (lengkapilah kode dibawah ini)\n",
    "    sns.boxplot(x=, y=, data=, palette=country_colors)\n",
    "    # Tampilkan judul grafik (lengkapilah kode dibawah ini)\n",
    "    plt.title('Distribusi Harga Anggur berdasarkan Negara {}')\n",
    "    # Tampilkan grafik\n",
    "\n",
    "# Panggil function diatas masing-masing 1 kali untuk setiap negara\n",
    "# panggil fungsi negara tertinggi rank 1\n",
    "plot_country_vs_price_boxplot()\n",
    "# panggil fungsi negara tertinggi rank 2\n",
    "plot_country_vs_price_boxplot()\n",
    "# panggil fungsi negara tertinggi rank 3\n",
    "plot_country_vs_price_boxplot()"
   ]
  },
  {
   "cell_type": "markdown",
   "metadata": {},
   "source": [
    "## 6.3 Visualisasi data dengan boxplot untuk kolom `points` dari semua negara dalam seluruh dataset (5 Poin)"
   ]
  },
  {
   "cell_type": "code",
   "execution_count": null,
   "metadata": {
    "datalore": {
     "hide_input_from_viewers": true,
     "hide_output_from_viewers": true,
     "node_id": "Lq1aeLGwjoWUKgbFzriC9i",
     "type": "CODE"
    }
   },
   "outputs": [],
   "source": [
    "# Buatlah kode boxplot vertical\n",
    "sns.boxplot(x=, y=, data=)\n",
    "\n",
    "# Rotasi x-axis labels 90 derajat\n",
    "\n",
    "# Title grafik\n",
    "plt.title('Distribusi Poin berdasarkan Negara')\n",
    "\n",
    "# Tampilkan grafik"
   ]
  },
  {
   "cell_type": "markdown",
   "metadata": {},
   "source": [
    "## 6.4 Visualisasi data dengan boxplot untuk kolom `price` dari semua negara dalam dataset (5 Poin)"
   ]
  },
  {
   "cell_type": "code",
   "execution_count": null,
   "metadata": {
    "datalore": {
     "hide_input_from_viewers": true,
     "hide_output_from_viewers": true,
     "node_id": "epBB5gbCPPRqFdIS579BOX",
     "type": "CODE"
    }
   },
   "outputs": [],
   "source": [
    "# Buatlah kode boxplot vertical\n",
    "sns.boxplot(x=, y=, data=)\n",
    "\n",
    "# Rotasi x-axis labels 90 derajat\n",
    "\n",
    "# Title grafik\n",
    "plt.title('Distribusi Price berdasarkan Negara')\n",
    "\n",
    "# Tampilkan grafik"
   ]
  },
  {
   "attachments": {},
   "cell_type": "markdown",
   "metadata": {
    "datalore": {
     "hide_input_from_viewers": true,
     "hide_output_from_viewers": true,
     "node_id": "hu7etrdAJYernVTnXf9ZMC",
     "type": "MD"
    }
   },
   "source": [
    "# 7. Statistika Deskriptif (15 Poin)"
   ]
  },
  {
   "cell_type": "markdown",
   "metadata": {},
   "source": [
    "## 7.1 Tampilkanlah Statistika Deskriptif Untuk Seluruh Dataframe (5 Poin)"
   ]
  },
  {
   "cell_type": "code",
   "execution_count": null,
   "metadata": {
    "datalore": {
     "hide_input_from_viewers": true,
     "hide_output_from_viewers": true,
     "node_id": "06Fm9teHgI6azNDSikWgLt",
     "type": "CODE"
    }
   },
   "outputs": [],
   "source": [
    "# Tampilkanlah statistika deskriptif untuk seluruh dataframe\n"
   ]
  },
  {
   "cell_type": "markdown",
   "metadata": {},
   "source": [
    "## 7.2 Tunjukkan Statistik Deskriptif untuk data kolom `points` dan `price` untuk negara 3 negara kontribusi terbanyak dan keseluruhan dataframe (10 Poin)"
   ]
  },
  {
   "cell_type": "code",
   "execution_count": null,
   "metadata": {
    "datalore": {
     "hide_input_from_viewers": true,
     "hide_output_from_viewers": true,
     "node_id": "tev7Z0OvAdq65FtlyczTYe",
     "type": "CODE"
    }
   },
   "outputs": [],
   "source": [
    "# lengkapilah fungsi dibawah ini (jangan mengubah nama fungsi dan parameter fungsi!)\n",
    "def statistik_deskriptif(column_name: str, country_name: str = None):\n",
    "    # Lengkapilah variabel title dibawah ini\n",
    "    title = \"Statistik Deskriptif kolom {} untuk negara {}\"\n",
    "\n",
    "    # Lengkapilah if else statement dibawah ini\n",
    "    # pastikan bahwa country name sama dengan nama negara top 3 kontribusi (case sensitive: contoh jika salah satu negaranya adalah negara Indonesia, maka lengkapilah kode dibawah dengan Indonesia (I kapital))\n",
    "    if country_name == \"\":\n",
    "        selected_df = \n",
    "    elif country_name == \"\":\n",
    "        selected_df = \n",
    "    elif country_name == \"\":\n",
    "        selected_df = \n",
    "    else:\n",
    "        selected_df = wine_df\n",
    "        # Lengkapilah variabel title dibawah ini\n",
    "        title = \"Statistik Deskriptif kolom {} untuk keseluruhan Dataframe\"\n",
    "\n",
    "    # Tampilkan judul\n",
    "\n",
    "    # Lengkapilah kode dibawah ini\n",
    "    rata_rata = selected_df[column_name]\n",
    "    min_value = selected_df[column_name]\n",
    "    median = selected_df[column_name]\n",
    "    q1 = selected_df[column_name]\n",
    "    q3 = selected_df[column_name]\n",
    "    max_value = selected_df[column_name]\n",
    "    standar_deviasi = wine_df[column_name]\n",
    "\n",
    "    # Lengkapilah print statement dibawah ini\n",
    "    print(f'Rata-rata jumlah poin : {:.2f}')\n",
    "    print(f'Nilai Minimum : {}')\n",
    "    print(f'Quartil 1 (Q1) : {}')\n",
    "    print(f'Median (Q2): {}')\n",
    "    print(f'Quartil 3 (Q3) : {}')\n",
    "    print(f'Nilai Maksimum : {}')\n",
    "    print(f'Standar Deviasi : {:.2f}')\n",
    "    print()\n",
    "\n",
    "# Panggil fungsi diatas sebanyak 8x\n",
    "## 4x untuk kolom points\n",
    "statistik_deskriptif(\"points\")\n",
    "statistik_deskriptif(\"\",\"\")\n",
    "statistik_deskriptif(\"\",\"\")\n",
    "statistik_deskriptif(\"\",\"\")\n",
    "\n",
    "## 4x untuk kolom price\n",
    "statistik_deskriptif(\"price\")\n",
    "statistik_deskriptif(\"\",\"\")\n",
    "statistik_deskriptif(\"\",\"\")\n",
    "statistik_deskriptif(\"\",\"\")"
   ]
  },
  {
   "cell_type": "code",
   "execution_count": 19,
   "metadata": {
    "datalore": {
     "hide_input_from_viewers": true,
     "hide_output_from_viewers": true,
     "node_id": "hPD4D34FAUnAWxjz4I2VSf",
     "type": "CODE"
    }
   },
   "outputs": [],
   "source": [
    "# Copy paste hasil output print pada cell sebelumnya dan masukkanlah ke variabel dibawah ini\n",
    "statistika_deskriptif_string = \"\"\"\n",
    "\n",
    "\"\"\""
   ]
  },
  {
   "attachments": {},
   "cell_type": "markdown",
   "metadata": {
    "datalore": {
     "hide_input_from_viewers": true,
     "hide_output_from_viewers": true,
     "node_id": "B5y2lOXbaS08OjAjhxHvV3",
     "type": "MD"
    }
   },
   "source": [
    "# 8. Kesimpulan / Insight Statistics (34 Poin)"
   ]
  },
  {
   "cell_type": "markdown",
   "metadata": {},
   "source": [
    "<p>Berikan Insight yang kalian dapatkan dari dataset ini berdasarkan grafik dan statistika deskriptif yang sudah kalian dapatkan dan buatlah kesimpulan, boleh dalam poin atau paragraf</p>\n",
    "<p>Insights (17 Poin): </p>\n",
    "<p>Kesimpulan (17 Poin): </p>"
   ]
  }
 ],
 "metadata": {
  "datalore": {
   "base_environment": "default",
   "computation_mode": "JUPYTER",
   "package_manager": "pip",
   "packages": [],
   "report_row_ids": [
    "cZXtFqbVObkilDbzRE2JKJ",
    "BuOmaJUIoIBycf48kZClq7",
    "JfASSsxAf2zWpcXlJqp5NL"
   ],
   "version": 3
  },
  "kernelspec": {
   "display_name": "Python 3.10.8 64-bit",
   "language": "python",
   "name": "python3"
  },
  "language_info": {
   "codemirror_mode": {
    "name": "ipython",
    "version": 3
   },
   "file_extension": ".py",
   "mimetype": "text/x-python",
   "name": "python",
   "nbconvert_exporter": "python",
   "pygments_lexer": "ipython3",
   "version": "3.10.8"
  },
  "vscode": {
   "interpreter": {
    "hash": "edf259275ad4a72d4dd5b452264ad5fb2b635233dff2a31edc6ebc740e55e21b"
   }
  }
 },
 "nbformat": 4,
 "nbformat_minor": 4
}
